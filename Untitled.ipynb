{
 "cells": [
  {
   "cell_type": "code",
   "execution_count": 9,
   "id": "de148c41-b5c7-4993-b42b-a959f56ee5fd",
   "metadata": {},
   "outputs": [],
   "source": [
    "import pandas as pd\n",
    "import matplotlib.pyplot as plt\n"
   ]
  },
  {
   "cell_type": "code",
   "execution_count": 10,
   "id": "61db6d0a-35e1-41b8-ae53-a6786b0d6b7a",
   "metadata": {},
   "outputs": [],
   "source": [
    "rooms=pd.DataFrame({\n",
    "    'Room No': [101, 102, 103, 104, 105],\n",
    "    'Room type':['Single', 'Double', 'Suite', 'Single', 'Double'],\n",
    "    'Status': ['Available', 'Occupied', 'Available', 'Available', 'Occupied']\n",
    "      })\n",
    "    \n",
    "    "
   ]
  },
  {
   "cell_type": "code",
   "execution_count": 14,
   "id": "f6c375c5-2db7-4c5a-bec6-d2d47e157fae",
   "metadata": {},
   "outputs": [],
   "source": [
    "guests=pd.DataFrame({\n",
    "    'Guest ID':[1, 2, 3, 4, 5],\n",
    "    'Name': ['John', 'Emma', 'Oliver', 'Ava', 'William'],\n",
    "    'Room No':[101, 102, 103, 104, 105],\n",
    "    'Check-in Date':['2021-01-01', '2024-01-05', '2024-01-10', '2024-01-15', '2024-01-20'],\n",
    "    'Check-out Date':['2021-01-05', '2024-01-10', '2024-01-15', '2024-01-20', '2024-01-20']\n",
    "})\n",
    "    "
   ]
  },
  {
   "cell_type": "code",
   "execution_count": null,
   "id": "1b7c35b5-b5cb-4df2-949e-e2b5f50519c6",
   "metadata": {},
   "outputs": [],
   "source": [
    "while True:\n",
    "    print(\"\\nHotel Management System\")\n",
    "    print(\"1. Display Rooms\")\n",
    "    print(\"2. Display Guests\")\n",
    "    print(\"3. Book Room\")\n",
    "    print(\"4. Check Out\")\n",
    "    print(\"5. Exit\")\n",
    "          \n",
    "          "
   ]
  },
  {
   "cell_type": "code",
   "execution_count": null,
   "id": "6feb4f6c-704b-4e77-aee4-51ce77c38c4b",
   "metadata": {},
   "outputs": [],
   "source": [
    "if choice ===1:\n",
    "    print(rooms)\n",
    "elif choice==2:\n",
    "    print(guests)\n",
    "elif choice==3:\n",
    "    room_no=int(input(\"enter the number:\"))\n",
    "    if rooms.loc[rooms['Room No']==room_no,\n",
    "    'Status']. values[0]=='Available':\n",
    "        guest_id=int(input(\"Enter Guest ID:\"))\n",
    "        Name=input(\"Enter guest name:\")\n",
    "        check_in=input(\"Enter check-in date (YY-MM-DD):\")\n",
    "        check-out=input(\"Enter check-out date (YY-MM-DD):\")\n",
    "        rooms.loc[rooms['Room No']==room_no 'Status]='Occupied'\n",
    "        guests.loc[len(guests)]= [guest_id, name, room_no, check-in, check-out]\n",
    "        print(f'Room {room_no} booked succesfully.\")\n",
    "        else:\n",
    "        print(\"Room is not available\")\n",
    "        elif choice==5:\n",
    "        break\n",
    "        else:\n",
    "        print(\"Invalid choice. Please try again\")\n",
    "                       \n",
    "                       \n"
   ]
  },
  {
   "cell_type": "code",
   "execution_count": null,
   "id": "e0fb41e8-b669-4e2a-8051-7b0681932b5f",
   "metadata": {},
   "outputs": [],
   "source": [
    "plt.bar(rooms['Room No'], rooms['Room Type'])\n",
    "plt.xlabel('Room No')\n",
    "plt.ylabel('Room type')\n",
    "plt.Title('Rooms in Hotel') \n",
    "plt.show()"
   ]
  },
  {
   "cell_type": "code",
   "execution_count": null,
   "id": "438e6384-c909-49c8-934c-df8ecf4bd824",
   "metadata": {},
   "outputs": [],
   "source": []
  }
 ],
 "metadata": {
  "kernelspec": {
   "display_name": "Python 3 (ipykernel)",
   "language": "python",
   "name": "python3"
  },
  "language_info": {
   "codemirror_mode": {
    "name": "ipython",
    "version": 3
   },
   "file_extension": ".py",
   "mimetype": "text/x-python",
   "name": "python",
   "nbconvert_exporter": "python",
   "pygments_lexer": "ipython3",
   "version": "3.13.1"
  }
 },
 "nbformat": 4,
 "nbformat_minor": 5
}
